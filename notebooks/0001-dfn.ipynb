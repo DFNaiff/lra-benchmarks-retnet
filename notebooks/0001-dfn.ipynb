{
 "cells": [
  {
   "cell_type": "code",
   "execution_count": 104,
   "metadata": {},
   "outputs": [
    {
     "name": "stdout",
     "output_type": "stream",
     "text": [
      "The autoreload extension is already loaded. To reload it, use:\n",
      "  %reload_ext autoreload\n"
     ]
    }
   ],
   "source": [
    "%load_ext autoreload\n",
    "%autoreload 2"
   ]
  },
  {
   "cell_type": "code",
   "execution_count": 1,
   "metadata": {},
   "outputs": [],
   "source": [
    "import os\n",
    "import itertools\n",
    "import random\n",
    "import contextlib\n",
    "\n",
    "import numpy as np\n",
    "import torch\n",
    "import lightning\n",
    "\n",
    "from retnet import GPTR, GPTRConfig, GPTRClassifier\n",
    "from lra import ListOps"
   ]
  },
  {
   "cell_type": "code",
   "execution_count": 2,
   "metadata": {},
   "outputs": [],
   "source": [
    "dataset = ListOps(\"listops-1000\")\n",
    "dataset.setup()"
   ]
  },
  {
   "cell_type": "code",
   "execution_count": 3,
   "metadata": {},
   "outputs": [
    {
     "data": {
      "text/plain": [
       "array([521, 737, 740, 660, 411, 678, 626, 513, 859, 136])"
      ]
     },
     "execution_count": 3,
     "metadata": {},
     "output_type": "execute_result"
    }
   ],
   "source": [
    "np.random.seed(42)\n",
    "np.random.choice(1000, 10, replace=False)"
   ]
  },
  {
   "cell_type": "code",
   "execution_count": 13,
   "metadata": {},
   "outputs": [],
   "source": [
    "@contextlib.contextmanager\n",
    "def temp_seed(seed):\n",
    "    state = np.random.get_state()\n",
    "    np.random.seed(seed)\n",
    "    try:\n",
    "        yield\n",
    "    finally:\n",
    "        np.random.set_state(state)\n",
    "\n",
    "class ParityDataset(torch.utils.data.Dataset):\n",
    "    def __init__(self, maxsize=10, minsize=3, ndata=1000, seed=42,\n",
    "                 train_split=0.8):\n",
    "        # max_possible_data = 2**maxsize - 2**(minsize-1)\n",
    "        max_possible_data = sum(2**i for i in range(minsize, maxsize+1))\n",
    "        assert ndata <= max_possible_data\n",
    "        self.ndata = ndata\n",
    "        self.max_possible_data = max_possible_data\n",
    "        self.maxsize = maxsize\n",
    "        self.minsize = minsize\n",
    "        self.seed = seed\n",
    "        self.train_split = train_split\n",
    "        self.make_full_dataset()\n",
    "\n",
    "    def make_full_dataset(self):\n",
    "        with temp_seed(self.seed):\n",
    "            inds = np.random.choice(self.max_possible_data, self.ndata, replace=False)\n",
    "            data = []\n",
    "            counter = 0\n",
    "            for n in range(self.minsize, self.maxsize+1):\n",
    "                sequences, labels, lengths = self.list_of_binary_strings_n(n)\n",
    "                for k in range(2**n):\n",
    "                    if counter in inds:\n",
    "                        data.append((sequences[k], labels[k], lengths[k]))\n",
    "                    counter += 1\n",
    "            ind = np.random.permutation(len(data))\n",
    "        self.data = [data[i] for i in ind]\n",
    "        self.train_ind = int(self.train_split * len(self.data))\n",
    "\n",
    "    def train_dataloader(self, *args, **kwargs):\n",
    "        return torch.utils.data.DataLoader(self.data[:self.train_ind],\n",
    "                                           *args, **kwargs,\n",
    "                                           collate_fn=self.collate_fn)\n",
    "\n",
    "    def val_dataloader(self, *args, **kwargs):\n",
    "        return torch.utils.data.DataLoader(self.data[self.train_ind:],\n",
    "                                           *args, **kwargs,\n",
    "                                           collate_fn=self.collate_fn)\n",
    "\n",
    "    def collate_fn(self, data):\n",
    "        \"\"\"\n",
    "        data: is a list of tuples with (example, label, length)\n",
    "                where 'example' is a tensor of arbitrary shape\n",
    "                and label/length are scalars\n",
    "        \"\"\"\n",
    "        _, labels, lengths = zip(*data)\n",
    "        max_len = max(lengths)\n",
    "        features = torch.zeros((len(data), max_len), dtype=torch.long)\n",
    "        labels = torch.tensor(labels, dtype=torch.long)\n",
    "        lengths = torch.tensor(lengths, dtype=torch.long)\n",
    "        for i, (example, _, _) in enumerate(data):\n",
    "            features[i, :len(example)] = example\n",
    "        return features, labels, {'lengths': lengths}\n",
    "\n",
    "    def list_of_binary_strings_n(self, n):\n",
    "        sequences = list(map(list, itertools.product(range(2), repeat=n)))\n",
    "        sequences = torch.tensor(sequences, dtype=torch.long)\n",
    "        lengths = n * torch.ones(len(sequences), dtype=torch.long)\n",
    "        labels = sequences.sum(axis=-1) % 2\n",
    "        return sequences, labels, lengths\n",
    "\n",
    "    def __len__(self):\n",
    "        return len(self.data)\n",
    "\n",
    "    def __getitem__(self, idx):\n",
    "        return self.data[idx]\n",
    "\n",
    "\n",
    "            # data.append((sequences, labels, lengths))\n",
    "        # for n in range(self.minsize, self.maxsize+1):\n",
    "            # sequences, labels, lengths = list_of_binary_strings_n(n)\n",
    "            # data.append((sequences, labels, lengths))\n",
    "        # return data"
   ]
  },
  {
   "cell_type": "code",
   "execution_count": 14,
   "metadata": {},
   "outputs": [],
   "source": [
    "dataset = ParityDataset()\n",
    "train_dataloader = dataset.train_dataloader(batch_size=4, num_workers=1)\n",
    "valid_dataloader = dataset.val_dataloader(batch_size=4, num_workers=1)"
   ]
  },
  {
   "cell_type": "code",
   "execution_count": 16,
   "metadata": {},
   "outputs": [],
   "source": [
    "def cumulative_parity_function(x):\n",
    "    return torch.cumsum(x, dim=-1) % 2"
   ]
  },
  {
   "cell_type": "code",
   "execution_count": 17,
   "metadata": {},
   "outputs": [],
   "source": [
    "batch = next(iter(train_dataloader))"
   ]
  },
  {
   "cell_type": "code",
   "execution_count": 19,
   "metadata": {},
   "outputs": [
    {
     "data": {
      "text/plain": [
       "tensor([[0, 0, 1, 1, 0, 1, 1, 1, 1],\n",
       "        [0, 0, 1, 0, 1, 0, 0, 1, 1],\n",
       "        [0, 1, 1, 0, 0, 0, 0, 0, 0],\n",
       "        [0, 1, 1, 1, 0, 0, 0, 1, 1]])"
      ]
     },
     "execution_count": 19,
     "metadata": {},
     "output_type": "execute_result"
    }
   ],
   "source": [
    "cumulative_parity_function(batch[0])"
   ]
  },
  {
   "cell_type": "code",
   "execution_count": 20,
   "metadata": {},
   "outputs": [
    {
     "data": {
      "text/plain": [
       "tensor([1, 1, 0, 1])"
      ]
     },
     "execution_count": 20,
     "metadata": {},
     "output_type": "execute_result"
    }
   ],
   "source": [
    "batch[1]"
   ]
  },
  {
   "cell_type": "code",
   "execution_count": 21,
   "metadata": {},
   "outputs": [
    {
     "data": {
      "text/plain": [
       "{'lengths': tensor([6, 9, 9, 9])}"
      ]
     },
     "execution_count": 21,
     "metadata": {},
     "output_type": "execute_result"
    }
   ],
   "source": [
    "batch[2]"
   ]
  },
  {
   "cell_type": "code",
   "execution_count": null,
   "metadata": {},
   "outputs": [],
   "source": []
  }
 ],
 "metadata": {
  "kernelspec": {
   "display_name": "mainenv",
   "language": "python",
   "name": "python3"
  },
  "language_info": {
   "codemirror_mode": {
    "name": "ipython",
    "version": 3
   },
   "file_extension": ".py",
   "mimetype": "text/x-python",
   "name": "python",
   "nbconvert_exporter": "python",
   "pygments_lexer": "ipython3",
   "version": "3.11.6"
  }
 },
 "nbformat": 4,
 "nbformat_minor": 2
}
