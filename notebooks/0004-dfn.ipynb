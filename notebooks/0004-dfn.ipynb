{
 "cells": [
  {
   "cell_type": "code",
   "execution_count": 7,
   "metadata": {},
   "outputs": [],
   "source": [
    "import sys\n",
    "sys.path.append(\"..\")\n",
    "\n",
    "import itertools\n",
    "\n",
    "import torch\n",
    "import numpy as np\n",
    "\n",
    "from lra import temp_seed, ParityDataset, BinaryMarkovDataset, MajorityDataset, ListOpsTiny, IMDB"
   ]
  },
  {
   "cell_type": "code",
   "execution_count": 15,
   "metadata": {},
   "outputs": [
    {
     "ename": "TypeError",
     "evalue": "'NoneType' object is not an iterator",
     "output_type": "error",
     "traceback": [
      "\u001b[0;31m---------------------------------------------------------------------------\u001b[0m",
      "\u001b[0;31mTypeError\u001b[0m                                 Traceback (most recent call last)",
      "\u001b[1;32m/home/lcadame/repos/LRATorch/lra-benchmarks-retnet/notebooks/0004-dfn.ipynb Cell 2\u001b[0m line \u001b[0;36m1\n\u001b[0;32m----> <a href='vscode-notebook-cell://ssh-remote%2Bexxon-v100/home/lcadame/repos/LRATorch/lra-benchmarks-retnet/notebooks/0004-dfn.ipynb#X12sdnNjb2RlLXJlbW90ZQ%3D%3D?line=0'>1</a>\u001b[0m \u001b[39mnext\u001b[39;49m(dataset\u001b[39m.\u001b[39;49mval_dataloader(batch_size\u001b[39m=\u001b[39;49m\u001b[39m8\u001b[39;49m))\n",
      "\u001b[0;31mTypeError\u001b[0m: 'NoneType' object is not an iterator"
     ]
    }
   ],
   "source": []
  },
  {
   "cell_type": "code",
   "execution_count": 8,
   "metadata": {},
   "outputs": [
    {
     "name": "stdout",
     "output_type": "stream",
     "text": [
      "IMDB char level | min_freq 15 | vocab size 134\n"
     ]
    },
    {
     "data": {
      "text/plain": [
       "(tensor([[52,  7,  3,  ...,  0,  0,  0],\n",
       "         [29,  3,  9,  ...,  0,  0,  0],\n",
       "         [46,  8, 13,  ...,  0,  0,  0],\n",
       "         ...,\n",
       "         [29,  3, 44,  ...,  0,  0,  0],\n",
       "         [36, 23, 23,  ..., 19, 24,  2],\n",
       "         [30, 12,  8,  ...,  0,  0,  0]]),\n",
       " tensor([0, 0, 1, 0, 1, 0, 0, 0]),\n",
       " {'lengths': tensor([ 699, 1375, 1197,  520, 2348, 1721, 2373,  732])})"
      ]
     },
     "execution_count": 8,
     "metadata": {},
     "output_type": "execute_result"
    }
   ],
   "source": [
    "dataset = IMDB('imdb')\n",
    "dataset.setup()\n",
    "next(iter(dataset.train_dataloader(batch_size=8)))"
   ]
  },
  {
   "cell_type": "code",
   "execution_count": 9,
   "metadata": {},
   "outputs": [],
   "source": [
    "lengths = [batch[2]['lengths'] for batch in dataset.train_dataloader(batch_size=32)]"
   ]
  },
  {
   "cell_type": "code",
   "execution_count": 10,
   "metadata": {},
   "outputs": [],
   "source": [
    "lengths = torch.hstack(lengths)"
   ]
  },
  {
   "cell_type": "code",
   "execution_count": 11,
   "metadata": {},
   "outputs": [
    {
     "data": {
      "text/plain": [
       "tensor(1299.4161)"
      ]
     },
     "execution_count": 11,
     "metadata": {},
     "output_type": "execute_result"
    }
   ],
   "source": [
    "lengths.float().mean()"
   ]
  },
  {
   "cell_type": "code",
   "execution_count": 12,
   "metadata": {},
   "outputs": [
    {
     "data": {
      "text/plain": [
       "tensor(4096.)"
      ]
     },
     "execution_count": 12,
     "metadata": {},
     "output_type": "execute_result"
    }
   ],
   "source": [
    "lengths.float().max()"
   ]
  },
  {
   "cell_type": "code",
   "execution_count": null,
   "metadata": {},
   "outputs": [],
   "source": []
  }
 ],
 "metadata": {
  "kernelspec": {
   "display_name": "mainenv",
   "language": "python",
   "name": "python3"
  },
  "language_info": {
   "codemirror_mode": {
    "name": "ipython",
    "version": 3
   },
   "file_extension": ".py",
   "mimetype": "text/x-python",
   "name": "python",
   "nbconvert_exporter": "python",
   "pygments_lexer": "ipython3",
   "version": "3.11.5"
  }
 },
 "nbformat": 4,
 "nbformat_minor": 2
}
