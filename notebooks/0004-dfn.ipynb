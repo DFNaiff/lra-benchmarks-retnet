{
 "cells": [
  {
   "cell_type": "code",
   "execution_count": 13,
   "metadata": {},
   "outputs": [],
   "source": [
    "import sys\n",
    "sys.path.append(\"..\")\n",
    "\n",
    "import itertools\n",
    "\n",
    "import torch\n",
    "import numpy as np\n",
    "\n",
    "from lra import temp_seed, ParityDataset, BinaryMarkovDataset, MajorityDataset, ListOpsTiny"
   ]
  },
  {
   "cell_type": "code",
   "execution_count": 14,
   "metadata": {},
   "outputs": [
    {
     "data": {
      "text/plain": [
       "(tensor([[15,  8,  4, 13, 10, 10, 17, 11, 12, 17, 14,  4, 13,  4,  3,  7, 14,  4,\n",
       "           9, 10,  8,  7, 13,  5, 13,  3,  8,  3, 11, 10, 15, 10,  4, 10,  6, 13,\n",
       "           6,  3, 11, 15,  9,  7,  8,  9,  3,  3,  8,  6, 14,  6, 10, 13,  5,  6,\n",
       "           3, 11,  3,  2,  0,  0,  0,  0,  0,  0,  0,  0,  0,  0,  0,  0,  0,  0,\n",
       "           0,  0,  0,  0,  0,  0,  0,  0,  0,  0,  0,  0,  0,  0,  0,  0,  0,  0,\n",
       "           0,  0,  0,  0,  0],\n",
       "         [16, 15, 14,  9,  8, 12,  3, 16,  9,  8, 12,  4, 15,  5,  5,  6, 10, 13,\n",
       "          11,  3,  3, 16, 12,  6, 16, 12,  9,  9,  3,  5,  3,  7, 12,  6,  3, 15,\n",
       "           5,  8,  6,  5,  7, 10, 13,  9,  3, 10, 15, 16, 13,  9,  6, 12,  3,  9,\n",
       "          11, 12, 16, 12, 16,  8,  7,  7,  3, 15,  9,  4,  5,  3,  3, 10,  9, 11,\n",
       "           7,  3,  9,  7,  6,  7, 11, 12,  3,  2,  0,  0,  0,  0,  0,  0,  0,  0,\n",
       "           0,  0,  0,  0,  0],\n",
       "         [14, 12, 12, 13,  8,  8, 11,  4, 14, 11,  4,  3,  3,  2,  0,  0,  0,  0,\n",
       "           0,  0,  0,  0,  0,  0,  0,  0,  0,  0,  0,  0,  0,  0,  0,  0,  0,  0,\n",
       "           0,  0,  0,  0,  0,  0,  0,  0,  0,  0,  0,  0,  0,  0,  0,  0,  0,  0,\n",
       "           0,  0,  0,  0,  0,  0,  0,  0,  0,  0,  0,  0,  0,  0,  0,  0,  0,  0,\n",
       "           0,  0,  0,  0,  0,  0,  0,  0,  0,  0,  0,  0,  0,  0,  0,  0,  0,  0,\n",
       "           0,  0,  0,  0,  0],\n",
       "         [16, 16,  5,  5,  7,  9,  3, 17, 11,  7, 10,  6,  6,  3,  7,  7, 12, 12,\n",
       "          10,  7,  7,  6,  3,  2,  0,  0,  0,  0,  0,  0,  0,  0,  0,  0,  0,  0,\n",
       "           0,  0,  0,  0,  0,  0,  0,  0,  0,  0,  0,  0,  0,  0,  0,  0,  0,  0,\n",
       "           0,  0,  0,  0,  0,  0,  0,  0,  0,  0,  0,  0,  0,  0,  0,  0,  0,  0,\n",
       "           0,  0,  0,  0,  0,  0,  0,  0,  0,  0,  0,  0,  0,  0,  0,  0,  0,  0,\n",
       "           0,  0,  0,  0,  0],\n",
       "         [15,  4, 17, 11, 16, 14, 17, 12, 12, 14,  4,  5,  4,  4,  7,  4, 13,  3,\n",
       "          15, 13, 13, 13,  6, 10, 10, 12,  4,  6, 14, 12, 14,  9, 16,  7,  5, 10,\n",
       "          11,  8, 12,  3, 13, 14,  4,  5, 10, 11, 13,  9, 12,  3, 16, 10, 12,  3,\n",
       "          10,  3,  5,  6, 12,  3,  3, 11, 16,  8, 10,  6,  9,  3, 10,  8,  9,  4,\n",
       "           3,  5, 12,  7,  3,  9,  7, 10,  6, 12,  3,  8, 13, 10, 11,  8, 11,  3,\n",
       "           9,  7, 11,  3,  2],\n",
       "         [16,  5,  4,  5,  5, 16,  8,  7,  3,  7, 15,  9, 13, 12,  9, 16,  5, 10,\n",
       "           3,  7,  7,  4,  8,  8,  3,  8, 13, 13,  3,  2,  0,  0,  0,  0,  0,  0,\n",
       "           0,  0,  0,  0,  0,  0,  0,  0,  0,  0,  0,  0,  0,  0,  0,  0,  0,  0,\n",
       "           0,  0,  0,  0,  0,  0,  0,  0,  0,  0,  0,  0,  0,  0,  0,  0,  0,  0,\n",
       "           0,  0,  0,  0,  0,  0,  0,  0,  0,  0,  0,  0,  0,  0,  0,  0,  0,  0,\n",
       "           0,  0,  0,  0,  0],\n",
       "         [14, 15, 13, 17,  6,  8,  8, 11, 10,  7,  8,  7,  3, 15, 15,  6, 11,  9,\n",
       "          13, 13,  3,  8,  5,  4, 12,  3, 11, 13, 11,  6,  3, 11, 10,  3,  2,  0,\n",
       "           0,  0,  0,  0,  0,  0,  0,  0,  0,  0,  0,  0,  0,  0,  0,  0,  0,  0,\n",
       "           0,  0,  0,  0,  0,  0,  0,  0,  0,  0,  0,  0,  0,  0,  0,  0,  0,  0,\n",
       "           0,  0,  0,  0,  0,  0,  0,  0,  0,  0,  0,  0,  0,  0,  0,  0,  0,  0,\n",
       "           0,  0,  0,  0,  0],\n",
       "         [16, 14, 14, 15,  7, 13, 11, 11, 13, 17, 17,  5,  6, 17,  7, 10, 10,  3,\n",
       "           9, 10,  3, 10,  3,  3, 11, 14,  8,  9, 12,  6, 10, 10, 11,  4,  5,  3,\n",
       "           3,  6,  4, 11,  3,  6,  8, 10,  3,  2,  0,  0,  0,  0,  0,  0,  0,  0,\n",
       "           0,  0,  0,  0,  0,  0,  0,  0,  0,  0,  0,  0,  0,  0,  0,  0,  0,  0,\n",
       "           0,  0,  0,  0,  0,  0,  0,  0,  0,  0,  0,  0,  0,  0,  0,  0,  0,  0,\n",
       "           0,  0,  0,  0,  0]]),\n",
       " tensor([0, 9, 6, 4, 0, 2, 7, 3]),\n",
       " {'lengths': tensor([58, 82, 14, 24, 95, 30, 35, 46])})"
      ]
     },
     "execution_count": 14,
     "metadata": {},
     "output_type": "execute_result"
    }
   ],
   "source": [
    "dataset = ListOpsTiny('listops-tiny')\n",
    "dataset.setup()\n",
    "next(iter(dataset.train_dataloader(batch_size=8)))"
   ]
  },
  {
   "cell_type": "code",
   "execution_count": 12,
   "metadata": {},
   "outputs": [
    {
     "data": {
      "text/plain": [
       "3"
      ]
     },
     "execution_count": 12,
     "metadata": {},
     "output_type": "execute_result"
    }
   ],
   "source": [
    "lengths = batch['lengths']"
   ]
  },
  {
   "cell_type": "code",
   "execution_count": 11,
   "metadata": {},
   "outputs": [
    {
     "data": {
      "text/plain": [
       "tensor([ 9,  5,  7,  6,  5,  8,  8,  6,  3,  9,  6,  4,  4,  6,  4,  4,  6,  7,\n",
       "         6,  8,  7,  8,  4,  8, 10,  6, 10,  6,  3,  6,  6,  4,  3, 10,  5,  6,\n",
       "         7,  6,  3,  8,  5, 10,  4,  8,  7, 10,  9,  3,  8,  8,  9, 10,  7,  7,\n",
       "         3,  5,  3,  6,  7,  5,  8,  7,  9,  3,  7,  6,  9,  6,  6,  6,  7, 10,\n",
       "         3, 10,  9,  3, 10,  3,  8,  4,  3,  7,  8,  3,  4,  4,  3, 10,  6,  3,\n",
       "         3,  5,  7,  4,  8,  9,  9,  5,  8,  9,  5,  7, 10, 10,  6, 10,  6,  7,\n",
       "        10,  5,  8,  6,  9,  4,  3,  6,  4,  5,  3,  9,  4,  5, 10,  9,  7,  3,\n",
       "         3,  4,  6,  9, 10, 10,  7,  3, 10,  7,  3,  7,  9,  5,  9,  6,  3, 10,\n",
       "         7,  3,  3,  3,  9,  7,  5,  9,  9,  3, 10,  4,  3,  5,  8,  5,  5,  6,\n",
       "        10,  5,  5,  4,  3,  5,  8,  6,  9,  7,  8,  6,  3,  8,  9,  7,  6,  7,\n",
       "         6, 10,  8,  4,  4,  5, 10,  3,  6,  4,  8,  9,  5,  5,  5,  5,  3,  4,\n",
       "         6,  6,  6,  8,  9,  3,  9,  6,  7,  8,  3,  4,  3,  9, 10,  9,  4,  3,\n",
       "         7,  7,  6,  5,  8, 10,  9,  7,  3,  9,  9,  9,  6,  3,  3,  9,  8,  7,\n",
       "         6, 10, 10, 10,  7,  7,  5,  8, 10,  4,  6,  8, 10,  7,  5, 10,  6,  7,\n",
       "         4,  7,  6,  5,  3,  4,  6,  3, 10, 10, 10,  6,  6,  4,  3,  4,  8,  8,\n",
       "         8,  6,  7,  6,  4, 10,  5,  6,  7,  5,  4,  9,  9,  8,  3,  5,  7, 10,\n",
       "         6,  8,  6,  4, 10,  9,  4,  7,  3,  3,  7,  3,  9,  6,  6,  5,  7,  4,\n",
       "        10,  3,  9,  5,  7,  6,  7,  5,  9,  3,  6,  6,  3,  4,  5,  8,  9,  3,\n",
       "         3,  8,  9,  7,  3,  8,  7, 10,  6,  6,  6,  3, 10,  5,  7,  3,  8,  3,\n",
       "         4,  3,  5,  3,  7,  7,  4,  9,  6,  5,  7,  8,  4,  4,  6, 10,  5,  6,\n",
       "         5,  5,  5,  8,  5,  6,  4,  9,  5,  9, 10,  7,  4,  6,  4,  3,  6,  9,\n",
       "         7,  8,  7,  3,  4, 10,  6,  3,  5,  7,  6, 10,  5,  3,  6,  5,  7,  5,\n",
       "         6,  6,  8,  7, 10, 10,  4, 10,  4, 10,  4, 10, 10,  6,  9,  7, 10,  8,\n",
       "         5,  7,  4,  8,  5,  8,  6,  5,  5,  9,  7,  3,  8,  8,  3,  3,  7,  9,\n",
       "         7, 10,  8,  7,  4,  8, 10, 10,  9,  8,  5,  4,  9,  8,  7, 10,  7,  6,\n",
       "         4,  4, 10, 10, 10,  4,  6,  9,  9,  5,  6,  7,  3,  7,  3,  9,  8,  4,\n",
       "         8,  5,  8,  3,  9,  4,  3,  6,  5,  4,  6,  6,  5, 10,  4,  6,  6,  4,\n",
       "         7,  4,  6,  5,  4,  7,  6,  6,  7,  5,  7,  8, 10,  4, 10,  8,  3,  8,\n",
       "         8,  6,  4,  7,  7,  7,  9,  5,  5,  5,  3,  4,  9, 10,  7,  7,  6,  5,\n",
       "         5, 10,  7,  6,  8,  3,  3,  9,  4,  8,  4,  3,  5,  3,  3,  9, 10,  8,\n",
       "         4,  6,  4,  4,  6,  8,  9, 10,  9,  9,  9,  4,  6,  8, 10,  3,  3,  8,\n",
       "         8,  6,  5,  4,  5,  7,  6,  9,  7,  7,  7,  9,  5,  5, 10,  3,  5,  8,\n",
       "         4,  4,  5,  9,  6,  6,  4,  3, 10,  3,  9,  6, 10, 10,  6,  5,  4,  8,\n",
       "         4,  4,  4,  3,  3,  4,  6,  4,  6,  6, 10,  8,  9,  9,  9,  4,  5,  9,\n",
       "         8, 10,  8,  9,  3,  6,  9,  5,  5, 10,  3,  6,  7,  7,  9,  9,  3,  8,\n",
       "         7,  9,  3,  9,  4,  5,  7, 10,  7,  6,  5,  9,  5,  7,  9,  3,  8,  7,\n",
       "        10,  5,  9, 10,  7,  8,  7, 10,  4,  3,  8,  4,  9,  9, 10,  9,  4,  8,\n",
       "         9, 10,  3,  9, 10,  7,  7,  5,  9,  9,  3,  7,  8,  4,  4,  3,  3,  4,\n",
       "         9,  5, 10,  4,  5,  6,  6,  8,  8,  8,  7,  5,  5,  4,  5,  3,  8,  6,\n",
       "         9,  4,  8,  5,  9,  6,  8, 10,  4,  8,  9,  3,  3,  4,  8,  9,  9,  8,\n",
       "         8,  5,  6,  6,  4,  8,  8,  3,  4,  6,  3,  6,  8,  8,  4,  9, 10,  9,\n",
       "         4,  3,  5,  6,  7,  4,  4,  3,  4, 10,  7,  9,  8,  5, 10,  6,  5,  9,\n",
       "         5,  9, 10,  8,  9,  5,  7,  3,  8,  3,  7,  5,  4,  6,  7,  7,  5, 10,\n",
       "         7,  6,  6,  3,  8,  9,  8,  4,  3,  9,  4,  9,  8,  8,  3,  3,  6, 10,\n",
       "         6,  6,  6, 10,  3, 10,  6,  4,  4, 10,  5,  5,  9,  8,  3,  3,  5,  4,\n",
       "         8,  9,  9,  9, 10,  8,  5,  4,  7,  7,  3,  7,  3,  6,  5,  5,  5,  9,\n",
       "         3,  7,  7,  7,  6,  4,  6,  5,  3,  3,  7,  4,  4,  3,  6,  4,  4,  9,\n",
       "         8,  8,  3,  4,  5,  9,  8,  9,  9,  8,  8,  3,  5,  5,  3,  6,  4, 10,\n",
       "        10,  7,  8,  4,  5,  8,  7,  3,  3, 10, 10,  8,  6,  6,  8,  7,  7, 10,\n",
       "         3, 10,  8,  5, 10,  8,  9,  8,  9,  5,  6,  3,  3,  9,  6, 10,  6,  5,\n",
       "        10,  9,  5, 10,  6,  6,  8,  5,  9,  8,  7, 10,  9,  5,  3,  3,  9,  8,\n",
       "         6,  4,  3,  6, 10,  5,  7,  8,  3,  8,  6,  4, 10,  4,  5,  3,  9, 10,\n",
       "         4,  6,  5,  5,  3,  9,  6,  4,  4,  7,  7,  5,  7,  5,  8,  8,  8,  5,\n",
       "         5,  5,  6,  3,  8,  3,  5,  8,  4,  7,  9,  6,  3,  7,  7,  8,  5, 10,\n",
       "         4,  6,  3, 10,  8,  7,  3,  5,  9,  4,  9,  9,  6,  7,  5,  3,  7,  4,\n",
       "         5, 10,  7,  9,  9,  6,  7,  4,  5,  5])"
      ]
     },
     "execution_count": 11,
     "metadata": {},
     "output_type": "execute_result"
    }
   ],
   "source": [
    "torch.tensor([batch[2] for batch in dataset.data])"
   ]
  },
  {
   "cell_type": "code",
   "execution_count": null,
   "metadata": {},
   "outputs": [],
   "source": []
  },
  {
   "cell_type": "code",
   "execution_count": 65,
   "metadata": {},
   "outputs": [],
   "source": [
    "class CustomSequenceDataset(torch.utils.data.Dataset):\n",
    "    def __init__(self, ndata, train_split, vocab_size):\n",
    "        self.ndata = ndata\n",
    "        self.train_split = train_split\n",
    "        self.vocab_size = vocab_size\n",
    "\n",
    "    def train_dataloader(self, *args, **kwargs):\n",
    "        return torch.utils.data.DataLoader(self.data[:self.train_ind],\n",
    "                                           *args, **kwargs,\n",
    "                                           collate_fn=self.collate_fn)\n",
    "\n",
    "    def val_dataloader(self, *args, **kwargs):\n",
    "        return torch.utils.data.DataLoader(self.data[self.train_ind:],\n",
    "                                           *args, **kwargs,\n",
    "                                           collate_fn=self.collate_fn)\n",
    "\n",
    "    def collate_fn(self, data):\n",
    "        \"\"\"\n",
    "        data: is a list of tuples with (example, label, length)\n",
    "                where 'example' is a tensor of arbitrary shape\n",
    "                and label/length are scalars\n",
    "        \"\"\"\n",
    "        _, labels, lengths = zip(*data)\n",
    "        max_len = max(lengths)\n",
    "        features = torch.zeros((len(data), max_len), dtype=torch.long)\n",
    "        labels = torch.tensor(labels, dtype=torch.long)\n",
    "        lengths = torch.tensor(lengths, dtype=torch.long)\n",
    "        for i, (example, _, _) in enumerate(data):\n",
    "            features[i, :len(example)] = example\n",
    "        return features, labels, {'lengths': lengths}\n",
    "\n",
    "    @property\n",
    "    def train_ind(self):\n",
    "        train_ind = int(self.train_split * len(self.data))\n",
    "        return train_ind\n",
    "\n",
    "    def __len__(self):\n",
    "        return len(self.data)\n",
    "\n",
    "    def __getitem__(self, idx):\n",
    "        return self.data[idx]\n",
    "\n",
    "    def setup(self, seed=42):\n",
    "        raise NotImplementedError\n",
    "    \n",
    "\n",
    "\n",
    "class BinarySequenceOpsDataset(CustomSequenceDataset):\n",
    "    def __init__(self, maxsize=10, minsize=3, ndata=1000,\n",
    "                 train_split=0.8):\n",
    "        max_possible_data = sum(2**i for i in range(minsize, maxsize+1))\n",
    "        assert ndata <= max_possible_data\n",
    "        super().__init__(ndata, train_split, 2)\n",
    "        self.max_possible_data = max_possible_data\n",
    "        self.maxsize = maxsize\n",
    "        self.minsize = minsize\n",
    "\n",
    "    def setup(self, seed=42):\n",
    "        with temp_seed(seed):\n",
    "            inds = np.random.choice(self.max_possible_data, self.ndata, replace=False)\n",
    "            data = []\n",
    "            counter = 0\n",
    "            for n in range(self.minsize, self.maxsize+1):\n",
    "                sequences, labels, lengths = self.list_of_binary_strings_n(n)\n",
    "                for k in range(2**n):\n",
    "                    if counter in inds:\n",
    "                        data.append((sequences[k], labels[k], lengths[k]))\n",
    "                    counter += 1\n",
    "            ind = np.random.permutation(len(data))\n",
    "        self.data = [data[i] for i in ind]\n",
    "\n",
    "    def list_of_binary_strings_n(self, n):\n",
    "        sequences = list(map(list, itertools.product(range(2), repeat=n)))\n",
    "        sequences = torch.tensor(sequences, dtype=torch.long)\n",
    "        lengths = n * torch.ones(len(sequences), dtype=torch.long)\n",
    "        labels = self.sequence_operation(sequences)\n",
    "        # labels = sequences[:, 0]\n",
    "        # labels = sequences.sum(dim=1) % 2\n",
    "        # labels = ((sequences.sum(dim=1) - n//2) > 0).long()\n",
    "        return sequences, labels, lengths\n",
    "\n",
    "\n",
    "class ParityDataset(BinarySequenceOpsDataset):\n",
    "    def sequence_operation(self, sequences):\n",
    "        return sequences.sum(dim=1) % 2\n",
    "\n",
    "\n",
    "class BinaryMarkovDataset(CustomSequenceDataset):\n",
    "    def __init__(self, ndata=1000, probability_retain=[0.8, 0.2],\n",
    "                 maxsize=10, minsize=3,\n",
    "                 train_split=0.7):\n",
    "        self.probability_retain = probability_retain\n",
    "        vocab_size = len(probability_retain)\n",
    "        super().__init__(ndata, train_split, vocab_size)\n",
    "        max_possible_data = sum(self.vocab_size**i\n",
    "                                for i in range(minsize, maxsize+1))\n",
    "        assert ndata <= max_possible_data\n",
    "        self.maxsize = maxsize\n",
    "        self.minsize = minsize\n",
    "\n",
    "    def setup(self, seed=42):\n",
    "        with temp_seed(seed):\n",
    "            self.data = []\n",
    "            counter = 0\n",
    "            for i in range(self.ndata):\n",
    "                n = np.random.randint(self.minsize, self.maxsize+1)\n",
    "                sequence, label, length = self.make_markov_chain(i, n)\n",
    "                self.data.append((sequence, label, length))\n",
    "        \n",
    "    def make_markov_chain(self, i, n):\n",
    "        which = i%self.vocab_size\n",
    "        p = self.probability_retain[which]\n",
    "        sequence = torch.zeros(n, dtype=torch.long)\n",
    "        val = 0\n",
    "        for i in range(n):\n",
    "            change = np.random.rand() < p\n",
    "            if change:\n",
    "                val = 1 - val\n",
    "            sequence[i] = val\n",
    "        length = torch.tensor(n, dtype=torch.long)\n",
    "        label = torch.tensor(which, dtype=torch.long)\n",
    "        return sequence, label, length\n"
   ]
  },
  {
   "cell_type": "code",
   "execution_count": 66,
   "metadata": {},
   "outputs": [
    {
     "data": {
      "text/plain": [
       "(tensor([[0, 0, 1, 0, 1, 1, 0, 0, 0],\n",
       "         [0, 0, 1, 1, 1, 1, 0, 1, 0],\n",
       "         [0, 1, 0, 1, 0, 0, 0, 0, 0],\n",
       "         [0, 1, 0, 0, 1, 0, 0, 1, 0]]),\n",
       " tensor([1, 1, 0, 1]),\n",
       " {'lengths': tensor([6, 9, 9, 9])})"
      ]
     },
     "execution_count": 66,
     "metadata": {},
     "output_type": "execute_result"
    }
   ],
   "source": [
    "dataset = ParityDataset()\n",
    "dataset.setup()\n",
    "next(iter(dataset.train_dataloader(batch_size=4)))"
   ]
  },
  {
   "cell_type": "code",
   "execution_count": 67,
   "metadata": {},
   "outputs": [
    {
     "data": {
      "text/plain": [
       "(tensor([[1, 0, 1, 0, 1, 0, 1, 0, 1],\n",
       "         [1, 1, 1, 1, 0, 0, 0, 0, 0],\n",
       "         [1, 0, 1, 0, 1, 0, 1, 0, 0],\n",
       "         [0, 0, 0, 1, 1, 1, 0, 0, 0]]),\n",
       " tensor([0, 1, 0, 1]),\n",
       " {'lengths': tensor([9, 5, 7, 6])})"
      ]
     },
     "execution_count": 67,
     "metadata": {},
     "output_type": "execute_result"
    }
   ],
   "source": [
    "dataset = BinaryMarkovDataset()\n",
    "dataset.setup()\n",
    "next(iter(dataset.train_dataloader(batch_size=4)))"
   ]
  },
  {
   "cell_type": "code",
   "execution_count": null,
   "metadata": {},
   "outputs": [],
   "source": []
  }
 ],
 "metadata": {
  "kernelspec": {
   "display_name": "mainenv",
   "language": "python",
   "name": "python3"
  },
  "language_info": {
   "codemirror_mode": {
    "name": "ipython",
    "version": 3
   },
   "file_extension": ".py",
   "mimetype": "text/x-python",
   "name": "python",
   "nbconvert_exporter": "python",
   "pygments_lexer": "ipython3",
   "version": "3.11.6"
  }
 },
 "nbformat": 4,
 "nbformat_minor": 2
}
