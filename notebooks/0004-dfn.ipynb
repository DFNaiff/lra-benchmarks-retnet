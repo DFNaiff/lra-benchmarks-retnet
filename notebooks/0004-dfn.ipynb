{
 "cells": [
  {
   "cell_type": "code",
   "execution_count": 1,
   "metadata": {},
   "outputs": [],
   "source": [
    "import sys\n",
    "sys.path.append(\"..\")\n",
    "\n",
    "import itertools\n",
    "\n",
    "import torch\n",
    "import numpy as np\n",
    "\n",
    "from lra import temp_seed, ParityDataset, BinaryMarkovDataset"
   ]
  },
  {
   "cell_type": "code",
   "execution_count": 4,
   "metadata": {},
   "outputs": [
    {
     "data": {
      "text/plain": [
       "(tensor([[1, 1, 0, 0, 1, 1, 1, 0, 0, 0],\n",
       "         [1, 1, 0, 0, 0, 1, 1, 1, 0, 0],\n",
       "         [1, 1, 1, 1, 1, 0, 0, 0, 0, 0],\n",
       "         [0, 0, 0, 0, 0, 0, 1, 1, 0, 0],\n",
       "         [1, 0, 0, 1, 0, 1, 0, 0, 0, 0],\n",
       "         [0, 1, 1, 0, 0, 0, 0, 0, 0, 0],\n",
       "         [0, 0, 0, 0, 0, 0, 0, 0, 0, 0],\n",
       "         [1, 1, 1, 1, 0, 0, 0, 0, 0, 0]]),\n",
       " tensor([1, 1, 1, 1, 0, 0, 1, 1]),\n",
       " {'lengths': tensor([ 7,  8,  9, 10,  6,  3,  3,  5])})"
      ]
     },
     "execution_count": 4,
     "metadata": {},
     "output_type": "execute_result"
    }
   ],
   "source": [
    "dataset = BinaryMarkovDataset()\n",
    "dataset.setup()\n",
    "next(iter(dataset.train_dataloader(batch_size=8)))"
   ]
  },
  {
   "cell_type": "code",
   "execution_count": 65,
   "metadata": {},
   "outputs": [],
   "source": [
    "class CustomSequenceDataset(torch.utils.data.Dataset):\n",
    "    def __init__(self, ndata, train_split, vocab_size):\n",
    "        self.ndata = ndata\n",
    "        self.train_split = train_split\n",
    "        self.vocab_size = vocab_size\n",
    "\n",
    "    def train_dataloader(self, *args, **kwargs):\n",
    "        return torch.utils.data.DataLoader(self.data[:self.train_ind],\n",
    "                                           *args, **kwargs,\n",
    "                                           collate_fn=self.collate_fn)\n",
    "\n",
    "    def val_dataloader(self, *args, **kwargs):\n",
    "        return torch.utils.data.DataLoader(self.data[self.train_ind:],\n",
    "                                           *args, **kwargs,\n",
    "                                           collate_fn=self.collate_fn)\n",
    "\n",
    "    def collate_fn(self, data):\n",
    "        \"\"\"\n",
    "        data: is a list of tuples with (example, label, length)\n",
    "                where 'example' is a tensor of arbitrary shape\n",
    "                and label/length are scalars\n",
    "        \"\"\"\n",
    "        _, labels, lengths = zip(*data)\n",
    "        max_len = max(lengths)\n",
    "        features = torch.zeros((len(data), max_len), dtype=torch.long)\n",
    "        labels = torch.tensor(labels, dtype=torch.long)\n",
    "        lengths = torch.tensor(lengths, dtype=torch.long)\n",
    "        for i, (example, _, _) in enumerate(data):\n",
    "            features[i, :len(example)] = example\n",
    "        return features, labels, {'lengths': lengths}\n",
    "\n",
    "    @property\n",
    "    def train_ind(self):\n",
    "        train_ind = int(self.train_split * len(self.data))\n",
    "        return train_ind\n",
    "\n",
    "    def __len__(self):\n",
    "        return len(self.data)\n",
    "\n",
    "    def __getitem__(self, idx):\n",
    "        return self.data[idx]\n",
    "\n",
    "    def setup(self, seed=42):\n",
    "        raise NotImplementedError\n",
    "    \n",
    "\n",
    "\n",
    "class BinarySequenceOpsDataset(CustomSequenceDataset):\n",
    "    def __init__(self, maxsize=10, minsize=3, ndata=1000,\n",
    "                 train_split=0.8):\n",
    "        max_possible_data = sum(2**i for i in range(minsize, maxsize+1))\n",
    "        assert ndata <= max_possible_data\n",
    "        super().__init__(ndata, train_split, 2)\n",
    "        self.max_possible_data = max_possible_data\n",
    "        self.maxsize = maxsize\n",
    "        self.minsize = minsize\n",
    "\n",
    "    def setup(self, seed=42):\n",
    "        with temp_seed(seed):\n",
    "            inds = np.random.choice(self.max_possible_data, self.ndata, replace=False)\n",
    "            data = []\n",
    "            counter = 0\n",
    "            for n in range(self.minsize, self.maxsize+1):\n",
    "                sequences, labels, lengths = self.list_of_binary_strings_n(n)\n",
    "                for k in range(2**n):\n",
    "                    if counter in inds:\n",
    "                        data.append((sequences[k], labels[k], lengths[k]))\n",
    "                    counter += 1\n",
    "            ind = np.random.permutation(len(data))\n",
    "        self.data = [data[i] for i in ind]\n",
    "\n",
    "    def list_of_binary_strings_n(self, n):\n",
    "        sequences = list(map(list, itertools.product(range(2), repeat=n)))\n",
    "        sequences = torch.tensor(sequences, dtype=torch.long)\n",
    "        lengths = n * torch.ones(len(sequences), dtype=torch.long)\n",
    "        labels = self.sequence_operation(sequences)\n",
    "        # labels = sequences[:, 0]\n",
    "        # labels = sequences.sum(dim=1) % 2\n",
    "        # labels = ((sequences.sum(dim=1) - n//2) > 0).long()\n",
    "        return sequences, labels, lengths\n",
    "\n",
    "\n",
    "class ParityDataset(BinarySequenceOpsDataset):\n",
    "    def sequence_operation(self, sequences):\n",
    "        return sequences.sum(dim=1) % 2\n",
    "\n",
    "\n",
    "class BinaryMarkovDataset(CustomSequenceDataset):\n",
    "    def __init__(self, ndata=1000, probability_retain=[0.8, 0.2],\n",
    "                 maxsize=10, minsize=3,\n",
    "                 train_split=0.7):\n",
    "        self.probability_retain = probability_retain\n",
    "        vocab_size = len(probability_retain)\n",
    "        super().__init__(ndata, train_split, vocab_size)\n",
    "        max_possible_data = sum(self.vocab_size**i\n",
    "                                for i in range(minsize, maxsize+1))\n",
    "        assert ndata <= max_possible_data\n",
    "        self.maxsize = maxsize\n",
    "        self.minsize = minsize\n",
    "\n",
    "    def setup(self, seed=42):\n",
    "        with temp_seed(seed):\n",
    "            self.data = []\n",
    "            counter = 0\n",
    "            for i in range(self.ndata):\n",
    "                n = np.random.randint(self.minsize, self.maxsize+1)\n",
    "                sequence, label, length = self.make_markov_chain(i, n)\n",
    "                self.data.append((sequence, label, length))\n",
    "        \n",
    "    def make_markov_chain(self, i, n):\n",
    "        which = i%self.vocab_size\n",
    "        p = self.probability_retain[which]\n",
    "        sequence = torch.zeros(n, dtype=torch.long)\n",
    "        val = 0\n",
    "        for i in range(n):\n",
    "            change = np.random.rand() < p\n",
    "            if change:\n",
    "                val = 1 - val\n",
    "            sequence[i] = val\n",
    "        length = torch.tensor(n, dtype=torch.long)\n",
    "        label = torch.tensor(which, dtype=torch.long)\n",
    "        return sequence, label, length\n"
   ]
  },
  {
   "cell_type": "code",
   "execution_count": 66,
   "metadata": {},
   "outputs": [
    {
     "data": {
      "text/plain": [
       "(tensor([[0, 0, 1, 0, 1, 1, 0, 0, 0],\n",
       "         [0, 0, 1, 1, 1, 1, 0, 1, 0],\n",
       "         [0, 1, 0, 1, 0, 0, 0, 0, 0],\n",
       "         [0, 1, 0, 0, 1, 0, 0, 1, 0]]),\n",
       " tensor([1, 1, 0, 1]),\n",
       " {'lengths': tensor([6, 9, 9, 9])})"
      ]
     },
     "execution_count": 66,
     "metadata": {},
     "output_type": "execute_result"
    }
   ],
   "source": [
    "dataset = ParityDataset()\n",
    "dataset.setup()\n",
    "next(iter(dataset.train_dataloader(batch_size=4)))"
   ]
  },
  {
   "cell_type": "code",
   "execution_count": 67,
   "metadata": {},
   "outputs": [
    {
     "data": {
      "text/plain": [
       "(tensor([[1, 0, 1, 0, 1, 0, 1, 0, 1],\n",
       "         [1, 1, 1, 1, 0, 0, 0, 0, 0],\n",
       "         [1, 0, 1, 0, 1, 0, 1, 0, 0],\n",
       "         [0, 0, 0, 1, 1, 1, 0, 0, 0]]),\n",
       " tensor([0, 1, 0, 1]),\n",
       " {'lengths': tensor([9, 5, 7, 6])})"
      ]
     },
     "execution_count": 67,
     "metadata": {},
     "output_type": "execute_result"
    }
   ],
   "source": [
    "dataset = BinaryMarkovDataset()\n",
    "dataset.setup()\n",
    "next(iter(dataset.train_dataloader(batch_size=4)))"
   ]
  },
  {
   "cell_type": "code",
   "execution_count": null,
   "metadata": {},
   "outputs": [],
   "source": []
  }
 ],
 "metadata": {
  "kernelspec": {
   "display_name": "mainenv",
   "language": "python",
   "name": "python3"
  },
  "language_info": {
   "codemirror_mode": {
    "name": "ipython",
    "version": 3
   },
   "file_extension": ".py",
   "mimetype": "text/x-python",
   "name": "python",
   "nbconvert_exporter": "python",
   "pygments_lexer": "ipython3",
   "version": "3.11.6"
  }
 },
 "nbformat": 4,
 "nbformat_minor": 2
}
