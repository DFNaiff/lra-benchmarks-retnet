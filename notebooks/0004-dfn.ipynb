{
 "cells": [
  {
   "cell_type": "code",
   "execution_count": 29,
   "metadata": {},
   "outputs": [],
   "source": [
    "import sys\n",
    "sys.path.append(\"..\")\n",
    "\n",
    "import itertools\n",
    "\n",
    "import torch\n",
    "import numpy as np\n",
    "\n",
    "from lra import temp_seed, ParityDataset, BinaryMarkovDataset, MajorityDataset, ListOpsTiny, IMDB"
   ]
  },
  {
   "cell_type": "code",
   "execution_count": 30,
   "metadata": {},
   "outputs": [
    {
     "name": "stdout",
     "output_type": "stream",
     "text": [
      "IMDB char level | min_freq 15 | vocab size 134\n"
     ]
    },
    {
     "data": {
      "text/plain": [
       "(tensor([[53, 13,  4,  ...,  0,  0,  0],\n",
       "         [68, 10, 18,  ...,  4, 24,  2],\n",
       "         [28, 43,  4,  ...,  0,  0,  0],\n",
       "         ...,\n",
       "         [30, 12,  4,  ...,  0,  0,  0],\n",
       "         [29,  3, 12,  ...,  0,  0,  0],\n",
       "         [29,  3, 11,  ...,  0,  0,  0]]),\n",
       " tensor([0, 1, 0, 0, 0, 1, 0, 0]),\n",
       " {'lengths': tensor([1361, 2997,  978, 1319,  392,  700,  655,  898])})"
      ]
     },
     "execution_count": 30,
     "metadata": {},
     "output_type": "execute_result"
    }
   ],
   "source": [
    "dataset = IMDB('imdb')\n",
    "dataset.setup()\n",
    "next(iter(dataset.train_dataloader(batch_size=8)))"
   ]
  },
  {
   "cell_type": "code",
   "execution_count": 31,
   "metadata": {},
   "outputs": [],
   "source": [
    "lengths = [batch[2]['lengths'] for batch in dataset.train_dataloader(batch_size=32)]"
   ]
  },
  {
   "cell_type": "code",
   "execution_count": 32,
   "metadata": {},
   "outputs": [],
   "source": [
    "lengths = torch.hstack(lengths)"
   ]
  },
  {
   "cell_type": "code",
   "execution_count": 33,
   "metadata": {},
   "outputs": [
    {
     "data": {
      "text/plain": [
       "tensor(1299.4161)"
      ]
     },
     "execution_count": 33,
     "metadata": {},
     "output_type": "execute_result"
    }
   ],
   "source": [
    "lengths.float().mean()"
   ]
  },
  {
   "cell_type": "code",
   "execution_count": null,
   "metadata": {},
   "outputs": [],
   "source": []
  }
 ],
 "metadata": {
  "kernelspec": {
   "display_name": "mainenv",
   "language": "python",
   "name": "python3"
  },
  "language_info": {
   "codemirror_mode": {
    "name": "ipython",
    "version": 3
   },
   "file_extension": ".py",
   "mimetype": "text/x-python",
   "name": "python",
   "nbconvert_exporter": "python",
   "pygments_lexer": "ipython3",
   "version": "3.11.6"
  }
 },
 "nbformat": 4,
 "nbformat_minor": 2
}
