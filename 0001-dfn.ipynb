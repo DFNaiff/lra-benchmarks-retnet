{
 "cells": [
  {
   "cell_type": "code",
   "execution_count": 8,
   "metadata": {},
   "outputs": [
    {
     "name": "stderr",
     "output_type": "stream",
     "text": [
      "2023-11-25 09:59:06.735850: E external/local_xla/xla/stream_executor/cuda/cuda_dnn.cc:9261] Unable to register cuDNN factory: Attempting to register factory for plugin cuDNN when one has already been registered\n",
      "2023-11-25 09:59:06.735876: E external/local_xla/xla/stream_executor/cuda/cuda_fft.cc:607] Unable to register cuFFT factory: Attempting to register factory for plugin cuFFT when one has already been registered\n",
      "2023-11-25 09:59:06.736643: E external/local_xla/xla/stream_executor/cuda/cuda_blas.cc:1515] Unable to register cuBLAS factory: Attempting to register factory for plugin cuBLAS when one has already been registered\n",
      "2023-11-25 09:59:07.743700: W tensorflow/compiler/tf2tensorrt/utils/py_utils.cc:38] TF-TRT Warning: Could not find TensorRT\n"
     ]
    }
   ],
   "source": [
    "import torch\n",
    "\n",
    "from retnet import GPTR\n",
    "import run_model"
   ]
  },
  {
   "cell_type": "code",
   "execution_count": 87,
   "metadata": {},
   "outputs": [],
   "source": [
    "class GPTRConfig(object):\n",
    "    def __init__(self, vocab_size,\n",
    "                 context_window,\n",
    "                 embedding_dim=64,\n",
    "                 nlayers=6,\n",
    "                 nheads=4,\n",
    "                 nhidden=None,\n",
    "                 nclasses=None):\n",
    "        self.vocab_size = vocab_size\n",
    "        self.context_window = context_window\n",
    "        self.embedding_dim = embedding_dim\n",
    "        self.nlayers = nlayers\n",
    "        self.nheads = nheads\n",
    "        self.nhidden = nhidden\n",
    "        if self.nhidden is None:\n",
    "            self.nhidden = 4*self.embedding_dim\n",
    "        self.nclasses = nclasses\n",
    "\n",
    "    def from_model_config(model_config):\n",
    "        vocab_size = model_config.vocab_size\n",
    "        context_window = model_config.max_position_embeddings\n",
    "        embedding_dim = model_config.hidden_size\n",
    "        nlayers = model_config.num_hidden_layers\n",
    "        nheads = model_config.num_attention_heads\n",
    "        nhidden = model_config.intermediate_size\n",
    "        nclasses = model_config.num_labels\n",
    "        return GPTRConfig(vocab_size,\n",
    "                          context_window,\n",
    "                          embedding_dim,\n",
    "                          nlayers,\n",
    "                          nheads,\n",
    "                          nhidden,\n",
    "                          nclasses)\n",
    "\n",
    "class GPTRAutoregressive(torch.nn.Module):\n",
    "    def __init__(self, config):\n",
    "        super().__init__()\n",
    "        self.model = GPTR(config.vocab_size,\n",
    "                          config.context_window,\n",
    "                          config.embedding_dim,\n",
    "                          config.nlayers,\n",
    "                          config.nheads,\n",
    "                          config.nhidden)\n",
    "    \n",
    "    def forward(self, x):\n",
    "        return self.model(x)\n",
    "    \n",
    "\n",
    "class GPTRClassifier(torch.nn.Module):\n",
    "    def __init__(self, config):\n",
    "        super().__init__()\n",
    "        assert config.nclasses is not None\n",
    "        self.model = GPTR(config.vocab_size,\n",
    "                          config.context_window,\n",
    "                          config.embedding_dim,\n",
    "                          config.nlayers,\n",
    "                          config.nheads,\n",
    "                          config.nhidden)\n",
    "        self.classifier = torch.nn.Linear(config.embedding_dim,\n",
    "                                          config.nclasses)\n",
    "\n",
    "    def get_which_index_from_mask(self, mask):\n",
    "        \"\"\"\n",
    "        From a mask of shape [..., D], get from where we should call our classifier\n",
    "        \"\"\"\n",
    "        # mask : [..., D]\n",
    "        # return : [...]\n",
    "        out = torch.max(1-mask, dim=-1)\n",
    "        index_seq = (out.indices*out.values + mask.shape[-1]*(1-out.values))-1\n",
    "        index_batch = torch.arange(index_seq.shape[0]).to(index_seq)\n",
    "        return index_seq, index_batch\n",
    "    \n",
    "    def forward(self, input_ids, attention_mask):\n",
    "        x = input_ids['input_ids']\n",
    "        mask = attention_mask['attention_mask']\n",
    "        index_seq, index_batch = self.get_which_index_from_mask(mask)\n",
    "        print(index_seq)\n",
    "        print(index_batch)\n",
    "        x = self.model.decode(x)[index_batch, index_seq, :]\n",
    "        x = self.classifier(x)\n",
    "        return x"
   ]
  },
  {
   "cell_type": "code",
   "execution_count": 88,
   "metadata": {},
   "outputs": [
    {
     "data": {
      "text/plain": [
       "tensor([[13, 13, 13, 13, 13, 13, 13, 13, 13, 13, 13,  1, 15,  2, 19,  2, 11,  2,\n",
       "         16,  2, 15,  2, 19,  2, 19,  2,  4,  2, 18,  2, 17,  2,  9,  2,  0,  0,\n",
       "          0,  0,  0,  0,  0,  0,  0,  0,  0,  0,  0,  0,  0,  0,  0,  0,  0,  0,\n",
       "          0,  0,  0,  0,  0,  0,  0,  0,  0,  0,  0,  0,  0,  0,  0,  0,  0,  0,\n",
       "          0,  0,  0,  0,  0,  0,  0,  0,  0,  0,  0,  0,  0,  0,  0,  0,  0,  0,\n",
       "          0,  0,  0,  0,  0,  0,  0,  0,  0,  0,  0,  0,  0,  0,  0,  0,  0,  0,\n",
       "          0,  0,  0,  0,  0,  0,  0,  0,  0,  0,  0,  0,  0,  0,  0,  0,  0,  0,\n",
       "          0,  0,  0,  0,  0,  0,  0,  0,  0,  0,  0,  0,  0,  0,  0,  0,  0,  0,\n",
       "          0,  0,  0,  0,  0,  0,  0,  0,  0,  0,  0,  0,  0,  0,  0,  0,  0,  0,\n",
       "          0,  0,  0,  0,  0,  0,  0,  0,  0,  0,  0,  0,  0,  0,  0,  0,  0,  0,\n",
       "          0,  0,  0,  0,  0,  0,  0,  0,  0,  0,  0,  0,  0,  0,  0,  0,  0,  0,\n",
       "          0,  0,  0,  0,  0,  0,  0,  0,  0,  0,  0,  0,  0,  0,  0,  0,  0,  0,\n",
       "          0,  0,  0,  0,  0,  0,  0,  0,  0,  0,  0,  0,  0,  0,  0,  0,  0,  0,\n",
       "          0,  0,  0,  0,  0,  0,  0,  0,  0,  0,  0,  0,  0,  0,  0,  0,  0,  0,\n",
       "          0,  0,  0,  0,  0,  0,  0,  0,  0,  0,  0,  0,  0,  0,  0,  0,  0,  0,\n",
       "          0,  0,  0,  0,  0,  0,  0,  0,  0,  0,  0,  0,  0,  0,  0,  0,  0,  0,\n",
       "          0,  0,  0,  0,  0,  0,  0,  0,  0,  0,  0,  0],\n",
       "        [13, 13, 13, 13, 13, 13, 13, 13, 13, 13, 13,  1,  7,  2, 18,  2,  4,  2,\n",
       "         18,  2, 17,  2, 11,  2, 16,  2, 13, 13, 13, 13, 13, 13, 13, 13,  1,  4,\n",
       "          2,  7,  2, 10,  2, 17,  2, 19,  2, 18,  2,  7,  2,  9,  2,  2, 16,  2,\n",
       "         13, 13, 13, 13,  1, 19,  2, 15,  2, 16,  2,  9,  2,  2,  9,  2,  0,  0,\n",
       "          0,  0,  0,  0,  0,  0,  0,  0,  0,  0,  0,  0,  0,  0,  0,  0,  0,  0,\n",
       "          0,  0,  0,  0,  0,  0,  0,  0,  0,  0,  0,  0,  0,  0,  0,  0,  0,  0,\n",
       "          0,  0,  0,  0,  0,  0,  0,  0,  0,  0,  0,  0,  0,  0,  0,  0,  0,  0,\n",
       "          0,  0,  0,  0,  0,  0,  0,  0,  0,  0,  0,  0,  0,  0,  0,  0,  0,  0,\n",
       "          0,  0,  0,  0,  0,  0,  0,  0,  0,  0,  0,  0,  0,  0,  0,  0,  0,  0,\n",
       "          0,  0,  0,  0,  0,  0,  0,  0,  0,  0,  0,  0,  0,  0,  0,  0,  0,  0,\n",
       "          0,  0,  0,  0,  0,  0,  0,  0,  0,  0,  0,  0,  0,  0,  0,  0,  0,  0,\n",
       "          0,  0,  0,  0,  0,  0,  0,  0,  0,  0,  0,  0,  0,  0,  0,  0,  0,  0,\n",
       "          0,  0,  0,  0,  0,  0,  0,  0,  0,  0,  0,  0,  0,  0,  0,  0,  0,  0,\n",
       "          0,  0,  0,  0,  0,  0,  0,  0,  0,  0,  0,  0,  0,  0,  0,  0,  0,  0,\n",
       "          0,  0,  0,  0,  0,  0,  0,  0,  0,  0,  0,  0,  0,  0,  0,  0,  0,  0,\n",
       "          0,  0,  0,  0,  0,  0,  0,  0,  0,  0,  0,  0,  0,  0,  0,  0,  0,  0,\n",
       "          0,  0,  0,  0,  0,  0,  0,  0,  0,  0,  0,  0]])"
      ]
     },
     "execution_count": 88,
     "metadata": {},
     "output_type": "execute_result"
    }
   ],
   "source": [
    "x "
   ]
  },
  {
   "cell_type": "code",
   "execution_count": 89,
   "metadata": {},
   "outputs": [],
   "source": [
    "config = GPTRConfig(vocab_size=100,\n",
    "                    context_window=30,\n",
    "                    nlayers=4,\n",
    "                    nclasses=10)\n",
    "model = GPTRClassifier(config)"
   ]
  },
  {
   "cell_type": "code",
   "execution_count": 90,
   "metadata": {},
   "outputs": [],
   "source": [
    "task = run_model.TASKS['listops-tiny']\n",
    "config, model_config = task.config_getter()\n",
    "dataset = task.dataset_fn(config)\n",
    "dataloader = torch.utils.data.DataLoader(dataset, batch_size=2, collate_fn=run_model.transformers_collator)"
   ]
  },
  {
   "cell_type": "code",
   "execution_count": 91,
   "metadata": {},
   "outputs": [
    {
     "data": {
      "text/plain": [
       "torch.Size([2, 10])"
      ]
     },
     "execution_count": 91,
     "metadata": {},
     "output_type": "execute_result"
    }
   ],
   "source": [
    "data = next(iter(dataloader))\n",
    "x = data[0]['input_ids']\n",
    "model.forward(x).shape"
   ]
  },
  {
   "cell_type": "code",
   "execution_count": 96,
   "metadata": {},
   "outputs": [
    {
     "data": {
      "text/plain": [
       "tensor([34, 70])"
      ]
     },
     "execution_count": 96,
     "metadata": {},
     "output_type": "execute_result"
    }
   ],
   "source": [
    "torch.argmax(1-data[0]['attention_mask'], axis=-1)"
   ]
  },
  {
   "cell_type": "code",
   "execution_count": 92,
   "metadata": {},
   "outputs": [
    {
     "name": "stdout",
     "output_type": "stream",
     "text": [
      "tensor([33, 69])\n",
      "tensor([0, 1])\n"
     ]
    },
    {
     "data": {
      "text/plain": [
       "tensor([[ 1.2323,  0.5281, -1.0114, -0.1157,  0.1694,  0.4346, -0.4739, -1.2117,\n",
       "          1.0016,  0.2805],\n",
       "        [ 0.9401,  0.1419, -0.5465, -0.5943, -0.4775,  0.5544, -0.7533, -1.1351,\n",
       "          0.7218,  0.1537]], grad_fn=<AddmmBackward0>)"
      ]
     },
     "execution_count": 92,
     "metadata": {},
     "output_type": "execute_result"
    }
   ],
   "source": [
    "model.forward(data[0])"
   ]
  },
  {
   "cell_type": "code",
   "execution_count": 99,
   "metadata": {},
   "outputs": [
    {
     "data": {
      "text/plain": [
       "tensor([0, 1, 2, 3, 4])"
      ]
     },
     "execution_count": 99,
     "metadata": {},
     "output_type": "execute_result"
    }
   ],
   "source": [
    "mask = torch.tril(torch.ones(5, 5, dtype=torch.long))\n",
    "out = torch.max(1-mask, dim=-1)\n",
    "(out.indices*out.values + mask.shape[-1]*(1-out.values))-1"
   ]
  },
  {
   "cell_type": "code",
   "execution_count": 100,
   "metadata": {},
   "outputs": [
    {
     "data": {
      "text/plain": [
       "(tensor([0, 1, 2, 3, 4]), tensor([0, 1, 2, 3, 4]))"
      ]
     },
     "execution_count": 100,
     "metadata": {},
     "output_type": "execute_result"
    }
   ],
   "source": [
    "model.get_which_index_from_mask(mask)"
   ]
  },
  {
   "cell_type": "code",
   "execution_count": 24,
   "metadata": {},
   "outputs": [
    {
     "data": {
      "text/plain": [
       "torch.Size([1, 10])"
      ]
     },
     "execution_count": 24,
     "metadata": {},
     "output_type": "execute_result"
    }
   ],
   "source": [
    "x = data[0]['input_ids']\n",
    "model.forward(x).shape"
   ]
  },
  {
   "cell_type": "code",
   "execution_count": 25,
   "metadata": {},
   "outputs": [
    {
     "data": {
      "text/plain": [
       "tensor([[ 0.2973,  0.0945,  0.1017, -0.0455,  0.0804, -0.6638, -0.4700,  0.9078,\n",
       "          0.1955, -0.6841]], grad_fn=<AddmmBackward0>)"
      ]
     },
     "execution_count": 25,
     "metadata": {},
     "output_type": "execute_result"
    }
   ],
   "source": [
    "model(x)"
   ]
  },
  {
   "cell_type": "code",
   "execution_count": null,
   "metadata": {},
   "outputs": [],
   "source": []
  }
 ],
 "metadata": {
  "kernelspec": {
   "display_name": "mainenv",
   "language": "python",
   "name": "python3"
  },
  "language_info": {
   "codemirror_mode": {
    "name": "ipython",
    "version": 3
   },
   "file_extension": ".py",
   "mimetype": "text/x-python",
   "name": "python",
   "nbconvert_exporter": "python",
   "pygments_lexer": "ipython3",
   "version": "3.11.6"
  }
 },
 "nbformat": 4,
 "nbformat_minor": 2
}
