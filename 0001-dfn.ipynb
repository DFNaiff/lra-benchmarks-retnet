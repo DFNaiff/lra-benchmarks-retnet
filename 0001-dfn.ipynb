{
 "cells": [
  {
   "cell_type": "code",
   "execution_count": 1,
   "metadata": {},
   "outputs": [],
   "source": [
    "%load_ext autoreload\n",
    "%autoreload 2"
   ]
  },
  {
   "cell_type": "code",
   "execution_count": 2,
   "metadata": {},
   "outputs": [],
   "source": [
    "import os\n",
    "\n",
    "import torch\n",
    "import lightning\n",
    "\n",
    "from retnet import GPTR, GPTRConfig, GPTRClassifier\n",
    "from lra import ListOps"
   ]
  },
  {
   "cell_type": "code",
   "execution_count": 3,
   "metadata": {},
   "outputs": [],
   "source": [
    "dataset = ListOps(\"listops-1000\")\n",
    "dataset.setup()"
   ]
  },
  {
   "cell_type": "code",
   "execution_count": 4,
   "metadata": {},
   "outputs": [],
   "source": [
    "train_dataloader = dataset.train_dataloader(batch_size=4, num_workers=23)\n",
    "valid_dataloader = dataset.val_dataloader(batch_size=4, num_workers=23)"
   ]
  },
  {
   "cell_type": "code",
   "execution_count": 5,
   "metadata": {},
   "outputs": [
    {
     "data": {
      "text/plain": [
       "3000"
      ]
     },
     "execution_count": 5,
     "metadata": {},
     "output_type": "execute_result"
    }
   ],
   "source": [
    "len(train_dataloader)//8"
   ]
  },
  {
   "cell_type": "code",
   "execution_count": 6,
   "metadata": {},
   "outputs": [],
   "source": [
    "config = GPTRConfig(vocab_size=dataset.vocab_size,\n",
    "                    context_window=None,\n",
    "                    nclasses=10,\n",
    "                    embedding_dim=512,\n",
    "                    nheads=8,\n",
    "                    nlayers=6,\n",
    "                    nhidden=2048\n",
    "                    )\n",
    "model = GPTRClassifier(config)"
   ]
  },
  {
   "cell_type": "code",
   "execution_count": 7,
   "metadata": {},
   "outputs": [],
   "source": [
    "class LLMClassifier(lightning.LightningModule):\n",
    "    def __init__(self, model):\n",
    "        super().__init__()\n",
    "        self.model = model\n",
    "        self.warmup_steps = 1000*8\n",
    "\n",
    "    def training_step(self, batch, batch_idx):\n",
    "        # training_step defines the train loop.\n",
    "        # it is independent of forward\n",
    "        x, y, args = batch\n",
    "        lengths = args['lengths']\n",
    "        logits = self.model(x, lengths)\n",
    "        loss = torch.nn.CrossEntropyLoss()(logits.logits, batch[1])\n",
    "        acc = (torch.argmax(logits.logits, axis=-1) == batch[1]).float().mean()\n",
    "        self.log(\"train_loss\", loss, prog_bar=True)\n",
    "        self.log(\"train_acc\", acc, prog_bar=True)\n",
    "        return loss\n",
    "\n",
    "    def validation_step(self, batch, batch_idx):\n",
    "        x, y, args = batch\n",
    "        logits = self.model.forward(x, args['lengths'])\n",
    "        loss = torch.nn.CrossEntropyLoss()(logits.logits, batch[1])\n",
    "        acc = (torch.argmax(logits.logits, axis=-1) == batch[1]).float().mean()\n",
    "        self.log(\"valid_loss\", loss, prog_bar=True)\n",
    "        self.log(\"valid_acc\", acc, prog_bar=True)\n",
    "        return loss\n",
    "\n",
    "    def create_optimizer(self):\n",
    "        return torch.optim.AdamW(self.parameters(), lr=0.05, weight_decay=0.1)\n",
    "            \n",
    "    def lr_warmup_config(self):\n",
    "        def warmup(step):\n",
    "            \"\"\"\n",
    "            This method will be called for ceil(warmup_batches/accum_grad_batches) times,\n",
    "            warmup_steps has been adjusted accordingly\n",
    "            \"\"\"\n",
    "            if self.warmup_steps <= 0:\n",
    "                factor = 1\n",
    "            else:\n",
    "                factor = min(step / self.warmup_steps, 1)\n",
    "            return factor\n",
    "\n",
    "        opt1 = self.create_optimizer()\n",
    "        return {\n",
    "            'frequency': 1,\n",
    "            'optimizer': opt1,\n",
    "            'lr_scheduler': {\n",
    "                'scheduler': torch.optim.lr_scheduler.LambdaLR(opt1, warmup),\n",
    "                'interval': 'step',\n",
    "                'frequency': 1,\n",
    "                'name': 'lr/warmup'\n",
    "            },\n",
    "        }\n",
    "\n",
    "    def configure_optimizers(self):\n",
    "        return (\n",
    "            self.lr_warmup_config(),\n",
    "        )\n"
   ]
  },
  {
   "cell_type": "code",
   "execution_count": 8,
   "metadata": {},
   "outputs": [],
   "source": [
    "module = LLMClassifier(model)"
   ]
  },
  {
   "cell_type": "code",
   "execution_count": 9,
   "metadata": {},
   "outputs": [
    {
     "data": {
      "text/plain": [
       "24"
      ]
     },
     "execution_count": 9,
     "metadata": {},
     "output_type": "execute_result"
    }
   ],
   "source": [
    "os.cpu_count()"
   ]
  },
  {
   "cell_type": "code",
   "execution_count": 10,
   "metadata": {},
   "outputs": [
    {
     "name": "stderr",
     "output_type": "stream",
     "text": [
      "GPU available: True (cuda), used: True\n",
      "TPU available: False, using: 0 TPU cores\n",
      "IPU available: False, using: 0 IPUs\n",
      "HPU available: False, using: 0 HPUs\n"
     ]
    },
    {
     "name": "stderr",
     "output_type": "stream",
     "text": [
      "/home/lcadame/miniconda3/envs/ddpm_env/lib/python3.11/site-packages/lightning/pytorch/trainer/connectors/logger_connector/logger_connector.py:67: Starting from v1.9.0, `tensorboardX` has been removed as a dependency of the `lightning.pytorch` package, due to potential conflicts with other packages in the ML ecosystem. For this reason, `logger=True` will use `CSVLogger` as the default logger, unless the `tensorboard` or `tensorboardX` packages are found. Please `pip install lightning[extra]` or one of them to enable TensorBoard support by default\n",
      "LOCAL_RANK: 0 - CUDA_VISIBLE_DEVICES: [0]\n",
      "/home/lcadame/miniconda3/envs/ddpm_env/lib/python3.11/site-packages/lightning/pytorch/core/optimizer.py:375: Found unsupported keys in the optimizer configuration: {'frequency'}\n",
      "\n",
      "  | Name  | Type           | Params\n",
      "-----------------------------------------\n",
      "0 | model | GPTRClassifier | 20.5 M\n",
      "-----------------------------------------\n",
      "20.5 M    Trainable params\n",
      "0         Non-trainable params\n",
      "20.5 M    Total params\n",
      "82.023    Total estimated model params size (MB)\n"
     ]
    },
    {
     "data": {
      "application/vnd.jupyter.widget-view+json": {
       "model_id": "840bde82f7d84cb7acc2571ccd6eafcc",
       "version_major": 2,
       "version_minor": 0
      },
      "text/plain": [
       "Sanity Checking: |          | 0/? [00:00<?, ?it/s]"
      ]
     },
     "metadata": {},
     "output_type": "display_data"
    },
    {
     "data": {
      "application/vnd.jupyter.widget-view+json": {
       "model_id": "c1f22b4da7d94280b5cf43c58f324480",
       "version_major": 2,
       "version_minor": 0
      },
      "text/plain": [
       "Training: |          | 0/? [00:00<?, ?it/s]"
      ]
     },
     "metadata": {},
     "output_type": "display_data"
    },
    {
     "data": {
      "application/vnd.jupyter.widget-view+json": {
       "model_id": "afd10d045c95469787bf72347fde73cd",
       "version_major": 2,
       "version_minor": 0
      },
      "text/plain": [
       "Validation: |          | 0/? [00:00<?, ?it/s]"
      ]
     },
     "metadata": {},
     "output_type": "display_data"
    },
    {
     "name": "stderr",
     "output_type": "stream",
     "text": [
      "/home/lcadame/miniconda3/envs/ddpm_env/lib/python3.11/site-packages/lightning/pytorch/trainer/call.py:54: Detected KeyboardInterrupt, attempting graceful shutdown...\n"
     ]
    }
   ],
   "source": [
    "trainer = lightning.Trainer(max_epochs=2, accumulate_grad_batches=8)\n",
    "trainer.fit(model=module, train_dataloaders=train_dataloader, val_dataloaders=valid_dataloader)"
   ]
  },
  {
   "cell_type": "code",
   "execution_count": null,
   "metadata": {},
   "outputs": [],
   "source": []
  }
 ],
 "metadata": {
  "kernelspec": {
   "display_name": "mainenv",
   "language": "python",
   "name": "python3"
  },
  "language_info": {
   "codemirror_mode": {
    "name": "ipython",
    "version": 3
   },
   "file_extension": ".py",
   "mimetype": "text/x-python",
   "name": "python",
   "nbconvert_exporter": "python",
   "pygments_lexer": "ipython3",
   "version": "3.11.5"
  }
 },
 "nbformat": 4,
 "nbformat_minor": 2
}
